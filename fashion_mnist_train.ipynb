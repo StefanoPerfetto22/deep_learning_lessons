{
  "nbformat": 4,
  "nbformat_minor": 0,
  "metadata": {
    "colab": {
      "name": "fashion_mnist_train.ipynb",
      "provenance": [],
      "include_colab_link": true
    },
    "kernelspec": {
      "name": "python3",
      "display_name": "Python 3"
    },
    "accelerator": "GPU"
  },
  "cells": [
    {
      "cell_type": "markdown",
      "metadata": {
        "id": "view-in-github",
        "colab_type": "text"
      },
      "source": [
        "<a href=\"https://colab.research.google.com/github/neural1977/deep_learning_lessons/blob/master/fashion_mnist_train.ipynb\" target=\"_parent\"><img src=\"https://colab.research.google.com/assets/colab-badge.svg\" alt=\"Open In Colab\"/></a>"
      ]
    },
    {
      "cell_type": "code",
      "metadata": {
        "id": "_nuWAAx5x1nV",
        "colab_type": "code",
        "colab": {
          "base_uri": "https://localhost:8080/",
          "height": 1000
        },
        "outputId": "4e56ef19-394a-4fd5-8b4c-ec5dd194ca49"
      },
      "source": [
        "# general imports\n",
        "import keras\n",
        "import numpy as np\n",
        "import pdb\n",
        "import matplotlib.pyplot as plt\n",
        "import random\n",
        "\n",
        "# keras imports\n",
        "from keras.models import Sequential\n",
        "from keras.layers import Dense\n",
        "from keras.datasets import fashion_mnist, mnist\n",
        "from keras.callbacks import ModelCheckpoint, EarlyStopping\n",
        "\n",
        "input_dim = 784\n",
        "default_callbacks = []\n",
        "random.seed(42)\n",
        "\n",
        "#download mnist data and split into train and test sets\n",
        "(X_train, y_train), (X_test, y_test) = fashion_mnist.load_data()\n",
        "#(X_train, y_train), (X_test, y_test) = mnist.load_data()\n",
        "\n",
        "\n",
        "for k in range(1):\n",
        "    # Show the first image from the training set\n",
        "    plt.imshow(X_train[k], cmap = 'gray')\n",
        "    plt.savefig(\"first_fashion_mnist_train_image_\"+str(k)+\".jpg\")\n",
        "    print(\"First fashion mnist train image\", y_train[0])\n",
        "    plt.show(block = False)\n",
        "    plt.pause(3)\n",
        "    plt.close()\n",
        "\n",
        "for k in range(1):\n",
        "    # Show the first image from the test set\n",
        "    plt.imshow(X_test[k], cmap = 'gray')\n",
        "    plt.savefig(\"first_fashion_mnist_test_image\"+str(k)+\".jpg\")\n",
        "    print(\"First fashion mnist test image\", y_test[0])\n",
        "    plt.show(block = False)\n",
        "    plt.pause(3)\n",
        "    plt.close()\n",
        "    \n",
        "X_train = X_train.reshape(60000,784)                # linearization of image data (which is 2-dimensional originally) because our model is mlp, so accept only linear data, unlike convolutional networks\n",
        "X_test = X_test.reshape(10000,784)\n",
        "\n",
        "# Normalization (testare come senza normalizzazione converge molto tardi a 95% rispetto alla normalizzazione)\n",
        "X_train = X_train / 255.0\n",
        "X_test = X_test / 255.0\n",
        "\n",
        "model = Sequential()\n",
        "model.add(Dense(32, activation='relu', input_dim=input_dim))\n",
        "model.add(Dense(10, activation='softmax'))\n",
        "model.compile(optimizer='rmsprop',\n",
        "              loss='categorical_crossentropy',\n",
        "              metrics=['accuracy'])\n",
        "              \n",
        "model.summary()\n",
        "\n",
        "#pdb.set_trace()\n",
        "\n",
        "# Convert labels to categorical one-hot encoding\n",
        "y_train = keras.utils.to_categorical(y_train, num_classes=10)\n",
        "y_test = keras.utils.to_categorical(y_test, num_classes=10)\n",
        "\n",
        "checkPoint=ModelCheckpoint(\"fm.cnn\", save_weights_only=True, monitor='val_acc', verbose=1, save_best_only=True, mode='max')\n",
        "default_callbacks = default_callbacks+[checkPoint]\n",
        "\n",
        "earlyStopping=EarlyStopping(monitor='val_loss', min_delta = 0.01, patience=5, verbose=0, mode='min') \n",
        "default_callbacks = default_callbacks+[earlyStopping]\n",
        "\n",
        "# Train the model, iterating on the data in batches of 32 samples\n",
        "model.fit(X_train, y_train, validation_split = 0.2, epochs=100, batch_size=128, \n",
        "                                        callbacks = default_callbacks, verbose = 2)\n",
        "                                                                                \n",
        "#model.save_weights(\"fm.cnn\")\n",
        "\n",
        "model.load_weights(\"fm.cnn\")\n",
        "                                        \n",
        "score = model.evaluate(X_test, y_test, batch_size=5000)\n",
        "print(score)"
      ],
      "execution_count": 2,
      "outputs": [
        {
          "output_type": "stream",
          "text": [
            "First fashion mnist train image 9\n"
          ],
          "name": "stdout"
        },
        {
          "output_type": "display_data",
          "data": {
            "image/png": "[encoded data removed]",
            "text/plain": [
              "<Figure size 432x288 with 1 Axes>"
            ]
          },
          "metadata": {
            "tags": []
          }
        },
        {
          "output_type": "stream",
          "text": [
            "First fashion mnist test image 9\n"
          ],
          "name": "stdout"
        },
        {
          "output_type": "display_data",
          "data": {
            "image/png": "[encoded data removed]",
            "text/plain": [
              "<Figure size 432x288 with 1 Axes>"
            ]
          },
          "metadata": {
            "tags": []
          }
        },
        {
          "output_type": "stream",
          "text": [
            "Model: \"sequential_2\"\n",
            "_________________________________________________________________\n",
            "Layer (type)                 Output Shape              Param #   \n",
            "=================================================================\n",
            "dense_3 (Dense)              (None, 32)                25120     \n",
            "_________________________________________________________________\n",
            "dense_4 (Dense)              (None, 10)                330       \n",
            "=================================================================\n",
            "Total params: 25,450\n",
            "Trainable params: 25,450\n",
            "Non-trainable params: 0\n",
            "_________________________________________________________________\n",
            "Train on 48000 samples, validate on 12000 samples\n",
            "Epoch 1/100\n",
            " - 1s - loss: 0.6768 - acc: 0.7765 - val_loss: 0.4938 - val_acc: 0.8254\n",
            "\n",
            "Epoch 00001: val_acc improved from -inf to 0.82542, saving model to fm.cnn\n",
            "Epoch 2/100\n",
            " - 1s - loss: 0.4772 - acc: 0.8343 - val_loss: 0.4499 - val_acc: 0.8421\n",
            "\n",
            "Epoch 00002: val_acc improved from 0.82542 to 0.84208, saving model to fm.cnn\n",
            "Epoch 3/100\n",
            " - 1s - loss: 0.4348 - acc: 0.8501 - val_loss: 0.4202 - val_acc: 0.8554\n",
            "\n",
            "Epoch 00003: val_acc improved from 0.84208 to 0.85542, saving model to fm.cnn\n",
            "Epoch 4/100\n",
            " - 1s - loss: 0.4099 - acc: 0.8571 - val_loss: 0.4068 - val_acc: 0.8573\n",
            "\n",
            "Epoch 00004: val_acc improved from 0.85542 to 0.85733, saving model to fm.cnn\n",
            "Epoch 5/100\n",
            " - 1s - loss: 0.3905 - acc: 0.8616 - val_loss: 0.3970 - val_acc: 0.8584\n",
            "\n",
            "Epoch 00005: val_acc improved from 0.85733 to 0.85842, saving model to fm.cnn\n",
            "Epoch 6/100\n",
            " - 1s - loss: 0.3744 - acc: 0.8677 - val_loss: 0.3812 - val_acc: 0.8654\n",
            "\n",
            "Epoch 00006: val_acc improved from 0.85842 to 0.86542, saving model to fm.cnn\n",
            "Epoch 7/100\n",
            " - 1s - loss: 0.3626 - acc: 0.8701 - val_loss: 0.3817 - val_acc: 0.8660\n",
            "\n",
            "Epoch 00007: val_acc improved from 0.86542 to 0.86600, saving model to fm.cnn\n",
            "Epoch 8/100\n",
            " - 1s - loss: 0.3525 - acc: 0.8746 - val_loss: 0.3601 - val_acc: 0.8738\n",
            "\n",
            "Epoch 00008: val_acc improved from 0.86600 to 0.87375, saving model to fm.cnn\n",
            "Epoch 9/100\n",
            " - 1s - loss: 0.3415 - acc: 0.8781 - val_loss: 0.3757 - val_acc: 0.8665\n",
            "\n",
            "Epoch 00009: val_acc did not improve from 0.87375\n",
            "Epoch 10/100\n",
            " - 1s - loss: 0.3316 - acc: 0.8817 - val_loss: 0.3540 - val_acc: 0.8725\n",
            "\n",
            "Epoch 00010: val_acc did not improve from 0.87375\n",
            "Epoch 11/100\n",
            " - 1s - loss: 0.3244 - acc: 0.8833 - val_loss: 0.3503 - val_acc: 0.8742\n",
            "\n",
            "Epoch 00011: val_acc improved from 0.87375 to 0.87425, saving model to fm.cnn\n",
            "Epoch 12/100\n",
            " - 1s - loss: 0.3161 - acc: 0.8858 - val_loss: 0.3483 - val_acc: 0.8772\n",
            "\n",
            "Epoch 00012: val_acc improved from 0.87425 to 0.87725, saving model to fm.cnn\n",
            "Epoch 13/100\n",
            " - 1s - loss: 0.3091 - acc: 0.8881 - val_loss: 0.3510 - val_acc: 0.8737\n",
            "\n",
            "Epoch 00013: val_acc did not improve from 0.87725\n",
            "Epoch 14/100\n",
            " - 1s - loss: 0.3042 - acc: 0.8897 - val_loss: 0.3668 - val_acc: 0.8667\n",
            "\n",
            "Epoch 00014: val_acc did not improve from 0.87725\n",
            "Epoch 15/100\n",
            " - 1s - loss: 0.2994 - acc: 0.8904 - val_loss: 0.3545 - val_acc: 0.8740\n",
            "\n",
            "Epoch 00015: val_acc did not improve from 0.87725\n",
            "Epoch 16/100\n",
            " - 1s - loss: 0.2943 - acc: 0.8930 - val_loss: 0.3449 - val_acc: 0.8762\n",
            "\n",
            "Epoch 00016: val_acc did not improve from 0.87725\n",
            "Epoch 17/100\n",
            " - 1s - loss: 0.2893 - acc: 0.8947 - val_loss: 0.3408 - val_acc: 0.8783\n",
            "\n",
            "Epoch 00017: val_acc improved from 0.87725 to 0.87825, saving model to fm.cnn\n",
            "10000/10000 [==============================] - 0s 4us/step\n",
            "[0.3694749027490616, 0.8691000044345856]\n"
          ],
          "name": "stdout"
        }
      ]
    }
  ]
}