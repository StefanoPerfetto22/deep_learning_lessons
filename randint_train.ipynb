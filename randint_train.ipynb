{
  "nbformat": 4,
  "nbformat_minor": 0,
  "metadata": {
    "colab": {
      "name": "Untitled1.ipynb",
      "provenance": [],
      "include_colab_link": true
    },
    "kernelspec": {
      "name": "python3",
      "display_name": "Python 3"
    },
    "accelerator": "GPU"
  },
  "cells": [
    {
      "cell_type": "markdown",
      "metadata": {
        "id": "view-in-github",
        "colab_type": "text"
      },
      "source": [
        "<a href=\"https://colab.research.google.com/github/neural1977/deep_learning_lessons/blob/master/randint_train.ipynb\" target=\"_parent\"><img src=\"https://colab.research.google.com/assets/colab-badge.svg\" alt=\"Open In Colab\"/></a>"
      ]
    },
    {
      "cell_type": "code",
      "metadata": {
        "id": "4hy91_7h50He",
        "colab_type": "code",
        "colab": {}
      },
      "source": [
        ""
      ],
      "execution_count": 0,
      "outputs": []
    },
    {
      "cell_type": "code",
      "metadata": {
        "id": "JhsoVGZh53kW",
        "colab_type": "code",
        "colab": {
          "base_uri": "https://localhost:8080/",
          "height": 1000
        },
        "outputId": "84ecfb4e-c833-4702-9b9b-3415ddd4af3b"
      },
      "source": [
        "\n",
        "# general imports\n",
        "import numpy as np\n",
        "import matplotlib.pyplot as plt\n",
        "import pdb\n",
        "\n",
        "\n",
        "#keras imports\n",
        "import keras\n",
        "from keras.models import Sequential\n",
        "from keras.layers import Dense\n",
        "from keras.utils import to_categorical\n",
        "\n",
        "import warnings\n",
        "\n",
        "with warnings.catch_warnings():\n",
        "    warnings.filterwarnings(\"ignore\",category=DeprecationWarning)\n",
        "\n",
        "input_dim = 784                                                     # set the dimensionality of data such as mnist 28 x 28 images\n",
        "\n",
        "model = Sequential()                                                # Initialize Keras model as Sequential since this is a simple model (in keras there are 2 types of model: Sequential and Model for more complicated models    \n",
        "model.add(Dense(32, activation='relu', input_dim=input_dim))\n",
        "model.add(Dense(10, activation='softmax'))                          # softmax is actually a normalization e^y/sum(e^y) which produces probabilities\n",
        "model.compile(optimizer='sgd',\n",
        "              loss='categorical_crossentropy',\n",
        "              metrics=['accuracy'])\n",
        "\n",
        "model.summary()\n",
        "              \n",
        "# Generate dummy data\n",
        "data = np.random.randint(255, size=(60000, input_dim))\n",
        "labels = np.random.randint(10, size=(60000, 1))\n",
        "\n",
        "# Normalization\n",
        "data = data / 255.0                                                  # for faster convergece of sgd\n",
        "\n",
        "# Convert labels to categorical one-hot encoding\n",
        "labels = to_categorical(labels, num_classes=10)                      # translate to a matrix 60000 x 10, with 5th column = 1 if the label is 5, the 8th col = 1 if label = 8, otherwise is 0\n",
        "                                                                     # this is because: output from neural network is a vector of 10 probabilities whereas label vectors is made of scalars (single values), for example 5,4,2,8\n",
        "                                                                     # in order to calculate derivatives we have to translate labels vector in one-hot encoding: 8 becomes [0,0,0,0,0,0,0,1,0,0], this is what to_categorical does\n",
        "# Train the model, iterating on the data in batches of 32 samples\n",
        "model.fit(data, labels, validation_split = 0.2, epochs=10, batch_size=32)       "
      ],
      "execution_count": 1,
      "outputs": [
        {
          "output_type": "stream",
          "text": [
            "Using TensorFlow backend.\n"
          ],
          "name": "stderr"
        },
        {
          "output_type": "display_data",
          "data": {
            "text/html": [
              "<p style=\"color: red;\">\n",
              "The default version of TensorFlow in Colab will soon switch to TensorFlow 2.x.<br>\n",
              "We recommend you <a href=\"https://www.tensorflow.org/guide/migrate\" target=\"_blank\">upgrade</a> now \n",
              "or ensure your notebook will continue to use TensorFlow 1.x via the <code>%tensorflow_version 1.x</code> magic:\n",
              "<a href=\"https://colab.research.google.com/notebooks/tensorflow_version.ipynb\" target=\"_blank\">more info</a>.</p>\n"
            ],
            "text/plain": [
              "<IPython.core.display.HTML object>"
            ]
          },
          "metadata": {
            "tags": []
          }
        },
        {
          "output_type": "stream",
          "text": [
            "WARNING:tensorflow:From /usr/local/lib/python3.6/dist-packages/keras/backend/tensorflow_backend.py:66: The name tf.get_default_graph is deprecated. Please use tf.compat.v1.get_default_graph instead.\n",
            "\n",
            "WARNING:tensorflow:From /usr/local/lib/python3.6/dist-packages/keras/backend/tensorflow_backend.py:541: The name tf.placeholder is deprecated. Please use tf.compat.v1.placeholder instead.\n",
            "\n",
            "WARNING:tensorflow:From /usr/local/lib/python3.6/dist-packages/keras/backend/tensorflow_backend.py:4432: The name tf.random_uniform is deprecated. Please use tf.random.uniform instead.\n",
            "\n",
            "WARNING:tensorflow:From /usr/local/lib/python3.6/dist-packages/keras/optimizers.py:793: The name tf.train.Optimizer is deprecated. Please use tf.compat.v1.train.Optimizer instead.\n",
            "\n",
            "WARNING:tensorflow:From /usr/local/lib/python3.6/dist-packages/keras/backend/tensorflow_backend.py:3576: The name tf.log is deprecated. Please use tf.math.log instead.\n",
            "\n",
            "Model: \"sequential_1\"\n",
            "_________________________________________________________________\n",
            "Layer (type)                 Output Shape              Param #   \n",
            "=================================================================\n",
            "dense_1 (Dense)              (None, 32)                25120     \n",
            "_________________________________________________________________\n",
            "dense_2 (Dense)              (None, 10)                330       \n",
            "=================================================================\n",
            "Total params: 25,450\n",
            "Trainable params: 25,450\n",
            "Non-trainable params: 0\n",
            "_________________________________________________________________\n",
            "WARNING:tensorflow:From /usr/local/lib/python3.6/dist-packages/tensorflow_core/python/ops/math_grad.py:1424: where (from tensorflow.python.ops.array_ops) is deprecated and will be removed in a future version.\n",
            "Instructions for updating:\n",
            "Use tf.where in 2.0, which has the same broadcast rule as np.where\n",
            "WARNING:tensorflow:From /usr/local/lib/python3.6/dist-packages/keras/backend/tensorflow_backend.py:1033: The name tf.assign_add is deprecated. Please use tf.compat.v1.assign_add instead.\n",
            "\n",
            "WARNING:tensorflow:From /usr/local/lib/python3.6/dist-packages/keras/backend/tensorflow_backend.py:1020: The name tf.assign is deprecated. Please use tf.compat.v1.assign instead.\n",
            "\n",
            "WARNING:tensorflow:From /usr/local/lib/python3.6/dist-packages/keras/backend/tensorflow_backend.py:3005: The name tf.Session is deprecated. Please use tf.compat.v1.Session instead.\n",
            "\n",
            "Train on 48000 samples, validate on 12000 samples\n",
            "Epoch 1/10\n",
            "WARNING:tensorflow:From /usr/local/lib/python3.6/dist-packages/keras/backend/tensorflow_backend.py:190: The name tf.get_default_session is deprecated. Please use tf.compat.v1.get_default_session instead.\n",
            "\n",
            "WARNING:tensorflow:From /usr/local/lib/python3.6/dist-packages/keras/backend/tensorflow_backend.py:197: The name tf.ConfigProto is deprecated. Please use tf.compat.v1.ConfigProto instead.\n",
            "\n",
            "WARNING:tensorflow:From /usr/local/lib/python3.6/dist-packages/keras/backend/tensorflow_backend.py:207: The name tf.global_variables is deprecated. Please use tf.compat.v1.global_variables instead.\n",
            "\n",
            "WARNING:tensorflow:From /usr/local/lib/python3.6/dist-packages/keras/backend/tensorflow_backend.py:216: The name tf.is_variable_initialized is deprecated. Please use tf.compat.v1.is_variable_initialized instead.\n",
            "\n",
            "WARNING:tensorflow:From /usr/local/lib/python3.6/dist-packages/keras/backend/tensorflow_backend.py:223: The name tf.variables_initializer is deprecated. Please use tf.compat.v1.variables_initializer instead.\n",
            "\n",
            "48000/48000 [==============================] - 10s 208us/step - loss: 2.3058 - acc: 0.0995 - val_loss: 2.3029 - val_acc: 0.0988\n",
            "Epoch 2/10\n",
            "48000/48000 [==============================] - 4s 90us/step - loss: 2.3026 - acc: 0.1027 - val_loss: 2.3031 - val_acc: 0.1028\n",
            "Epoch 3/10\n",
            "48000/48000 [==============================] - 4s 90us/step - loss: 2.3023 - acc: 0.1034 - val_loss: 2.3028 - val_acc: 0.1037\n",
            "Epoch 4/10\n",
            "48000/48000 [==============================] - 4s 88us/step - loss: 2.3021 - acc: 0.1041 - val_loss: 2.3031 - val_acc: 0.1021\n",
            "Epoch 5/10\n",
            "48000/48000 [==============================] - 4s 88us/step - loss: 2.3019 - acc: 0.1043 - val_loss: 2.3034 - val_acc: 0.1026\n",
            "Epoch 6/10\n",
            "48000/48000 [==============================] - 4s 88us/step - loss: 2.3016 - acc: 0.1039 - val_loss: 2.3039 - val_acc: 0.0958\n",
            "Epoch 7/10\n",
            "48000/48000 [==============================] - 4s 89us/step - loss: 2.3014 - acc: 0.1034 - val_loss: 2.3032 - val_acc: 0.1026\n",
            "Epoch 8/10\n",
            "48000/48000 [==============================] - 4s 87us/step - loss: 2.3010 - acc: 0.1050 - val_loss: 2.3034 - val_acc: 0.0968\n",
            "Epoch 9/10\n",
            "48000/48000 [==============================] - 4s 87us/step - loss: 2.3005 - acc: 0.1074 - val_loss: 2.3035 - val_acc: 0.0988\n",
            "Epoch 10/10\n",
            "48000/48000 [==============================] - 4s 91us/step - loss: 2.3002 - acc: 0.1067 - val_loss: 2.3041 - val_acc: 0.0998\n"
          ],
          "name": "stdout"
        },
        {
          "output_type": "execute_result",
          "data": {
            "text/plain": [
              "<keras.callbacks.History at 0x7ff72b2a6128>"
            ]
          },
          "metadata": {
            "tags": []
          },
          "execution_count": 1
        }
      ]
    },
    {
      "cell_type": "markdown",
      "metadata": {
        "id": "4g8WXpnk7Fvu",
        "colab_type": "text"
      },
      "source": [
        "prova\n"
      ]
    },
    {
      "cell_type": "code",
      "metadata": {
        "id": "AvUwBc-L7AFr",
        "colab_type": "code",
        "colab": {}
      },
      "source": [
        ""
      ],
      "execution_count": 0,
      "outputs": []
    },
    {
      "cell_type": "markdown",
      "metadata": {
        "id": "glg4ro4P63U0",
        "colab_type": "text"
      },
      "source": [
        ""
      ]
    },
    {
      "cell_type": "markdown",
      "metadata": {
        "id": "jg3MYw2d60nN",
        "colab_type": "text"
      },
      "source": [
        ""
      ]
    }
  ]
}